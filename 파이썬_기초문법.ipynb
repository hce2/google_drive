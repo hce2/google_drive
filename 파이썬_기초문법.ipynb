{
  "nbformat": 4,
  "nbformat_minor": 0,
  "metadata": {
    "colab": {
      "name": "파이썬_기초문법.ipynb",
      "provenance": [],
      "collapsed_sections": [],
      "authorship_tag": "ABX9TyNICiyMOln/mV+qHhWCHP0F",
      "include_colab_link": true
    },
    "kernelspec": {
      "name": "python3",
      "display_name": "Python 3"
    },
    "language_info": {
      "name": "python"
    }
  },
  "cells": [
    {
      "cell_type": "markdown",
      "metadata": {
        "id": "view-in-github",
        "colab_type": "text"
      },
      "source": [
        "<a href=\"https://colab.research.google.com/github/hce2/google_drive/blob/main/%ED%8C%8C%EC%9D%B4%EC%8D%AC_%EA%B8%B0%EC%B4%88%EB%AC%B8%EB%B2%95.ipynb\" target=\"_parent\"><img src=\"https://colab.research.google.com/assets/colab-badge.svg\" alt=\"Open In Colab\"/></a>"
      ]
    },
    {
      "cell_type": "markdown",
      "source": [
        "# Hello World"
      ],
      "metadata": {
        "id": "JgSNBv0fA-aD"
      }
    },
    {
      "cell_type": "code",
      "source": [
        "print(\"Hello, World!\")"
      ],
      "metadata": {
        "colab": {
          "base_uri": "https://localhost:8080/"
        },
        "id": "aOUp-YLP2c9D",
        "outputId": "903fd9e8-33db-4eae-a516-d1ac8ff776ed"
      },
      "execution_count": null,
      "outputs": [
        {
          "output_type": "stream",
          "name": "stdout",
          "text": [
            "Hello, World!\n"
          ]
        }
      ]
    },
    {
      "cell_type": "markdown",
      "source": [
        "# 주석 처리\n",
        "- 코드 작업 시, 특정 코드에 대해 설명\n",
        "- 사용자 정의 함수 작성 시, 클래스 작성 시.. (도움말 작성)"
      ],
      "metadata": {
        "id": "JcG3Ws5CBQyt"
      }
    },
    {
      "cell_type": "code",
      "source": [
        "# 한 줄 주석 처리\n",
        "\"\"\"\n",
        "여러 줄 주석 처리가 가능\n",
        "\"\"\"\n",
        "print(\"Hello, World!\")"
      ],
      "metadata": {
        "colab": {
          "base_uri": "https://localhost:8080/"
        },
        "id": "7M7fgetmBbAo",
        "outputId": "f8bc5df3-f9c0-43a1-d2ec-c37c1908ef00"
      },
      "execution_count": null,
      "outputs": [
        {
          "output_type": "stream",
          "name": "stdout",
          "text": [
            "Hello, World!\n"
          ]
        }
      ]
    },
    {
      "cell_type": "markdown",
      "source": [
        "# 변수 (Scalar)\n",
        "- 객체(Object)로 구현이 됨\n",
        "   + 하나의 자료형(Type)을 가진다. (이것만 기억!)\n",
        "   + 클래스로 정의가 됨.\n",
        "     - 다양한 함수들이 존재 함.\n"
      ],
      "metadata": {
        "id": "UvBQXgjQB05i"
      }
    },
    {
      "cell_type": "markdown",
      "source": [
        "## int\n",
        "- int 정수를 표현하는 데 사용함."
      ],
      "metadata": {
        "id": "LiCpJqowCVoT"
      }
    },
    {
      "cell_type": "code",
      "source": [
        "# 데이터 전처리..\n",
        "# 데이터 전처리를 잘해야! 분석도 잘함. 예측 모형도 잘 만듬.\n",
        "# 데이터 전처리를 잘하기 위해서는, 기초문법이 중요함.\n",
        "\n",
        "num_int = 1\n",
        "num_int2 = 3\n",
        "print(num_int)\n",
        "print(num_int2)\n",
        "print(type(num_int)) # 객체의 타입 출력"
      ],
      "metadata": {
        "colab": {
          "base_uri": "https://localhost:8080/"
        },
        "id": "zMho_hR1CbeX",
        "outputId": "2b6193bc-afb7-43bd-e557-d967ef6680f7"
      },
      "execution_count": null,
      "outputs": [
        {
          "output_type": "stream",
          "name": "stdout",
          "text": [
            "1\n",
            "3\n",
            "<class 'int'>\n"
          ]
        }
      ]
    },
    {
      "cell_type": "markdown",
      "source": [
        "## float\n",
        "- 실수를 표현하는데 사용한다."
      ],
      "metadata": {
        "id": "uTXvR03yDhi7"
      }
    },
    {
      "cell_type": "code",
      "source": [
        "num_float = 0.2\n",
        "print(num_float)\n",
        "print(type(num_float))"
      ],
      "metadata": {
        "colab": {
          "base_uri": "https://localhost:8080/"
        },
        "id": "a4mTX2qbDmtm",
        "outputId": "18329354-7764-4c9e-b17c-918e4038c30f"
      },
      "execution_count": null,
      "outputs": [
        {
          "output_type": "stream",
          "name": "stdout",
          "text": [
            "0.2\n",
            "<class 'float'>\n"
          ]
        }
      ]
    },
    {
      "cell_type": "markdown",
      "source": [
        "## bool\n",
        "- True와 False로 나타내는 Boolean 값을 표현하는데 사용한다."
      ],
      "metadata": {
        "id": "xiBUCu8AD1Ix"
      }
    },
    {
      "cell_type": "code",
      "source": [
        "bool_true = True\n",
        "print(bool_true)\n",
        "print(type(bool_true))"
      ],
      "metadata": {
        "colab": {
          "base_uri": "https://localhost:8080/"
        },
        "id": "WYcUEvztD-g7",
        "outputId": "914960ac-205b-4b60-f7bd-0d2ed50c712c"
      },
      "execution_count": null,
      "outputs": [
        {
          "output_type": "stream",
          "name": "stdout",
          "text": [
            "True\n",
            "<class 'bool'>\n"
          ]
        }
      ]
    },
    {
      "cell_type": "markdown",
      "source": [
        "## None\n",
        "- Null을 나타내는 자료형으로 None이라는 한 가지 값만 가진다."
      ],
      "metadata": {
        "id": "Ch_BrwMRELlA"
      }
    },
    {
      "cell_type": "code",
      "source": [
        "none_x = None\n",
        "print(none_x)\n",
        "print(type(none_x))"
      ],
      "metadata": {
        "colab": {
          "base_uri": "https://localhost:8080/"
        },
        "id": "GlkyHg1EEYLg",
        "outputId": "09412577-5241-41cd-c373-154296a61f9e"
      },
      "execution_count": null,
      "outputs": [
        {
          "output_type": "stream",
          "name": "stdout",
          "text": [
            "None\n",
            "<class 'NoneType'>\n"
          ]
        }
      ]
    },
    {
      "cell_type": "markdown",
      "source": [
        "# 사칙연산\n"
      ],
      "metadata": {
        "id": "WWwfB6s7Ezf2"
      }
    },
    {
      "cell_type": "markdown",
      "source": [
        "## 정수형 사칙 연산\n",
        "\n"
      ],
      "metadata": {
        "id": "aASLiXiCPRfa"
      }
    },
    {
      "cell_type": "code",
      "source": [
        "a = 4\n",
        "b = 4\n",
        "print('a + b = ', a + b) # 정수\n",
        "print('a - b = ', a - b) # 정수\n",
        "print('a * b = ', a * b) # 정수\n",
        "print('a / b = ', a / b) # 실수\n",
        "print('a // b = ', a // b) # 정수\n",
        "print('a % b = ', a % b)  # 정수\n",
        "print('a ** b = ', a ** b) # 정수\n",
        "c = a /b\n",
        "print(type(c))"
      ],
      "metadata": {
        "colab": {
          "base_uri": "https://localhost:8080/"
        },
        "id": "yzbBnRf4E_XL",
        "outputId": "030edb9f-e87e-4f53-cbbf-553d3dd48258"
      },
      "execution_count": null,
      "outputs": [
        {
          "output_type": "stream",
          "name": "stdout",
          "text": [
            "a + b =  8\n",
            "a - b =  0\n",
            "a * b =  16\n",
            "a / b =  1.0\n",
            "a // b =  1\n",
            "a % b =  0\n",
            "a ** b =  256\n",
            "<class 'float'>\n"
          ]
        }
      ]
    },
    {
      "cell_type": "markdown",
      "source": [
        "## 실수형 사칙연산"
      ],
      "metadata": {
        "id": "EHhO3dptGmT7"
      }
    },
    {
      "cell_type": "code",
      "source": [
        "a = 4.0\n",
        "b = 4.0\n",
        "print('a + b = ', a + b)\n",
        "print('a - b = ', a - b) \n",
        "print('a * b = ', a * b) \n",
        "print('a / b = ', a / b) \n",
        "print('a // b = ', a // b) \n",
        "print('a % b = ', a % b)\n",
        "print('a ** b = ', a ** b)"
      ],
      "metadata": {
        "colab": {
          "base_uri": "https://localhost:8080/"
        },
        "id": "mfcf8NtdGpaR",
        "outputId": "d0269b6f-3208-4e91-c4c4-c3c1551235a2"
      },
      "execution_count": null,
      "outputs": [
        {
          "output_type": "stream",
          "name": "stdout",
          "text": [
            "a + b =  8.0\n",
            "a - b =  0.0\n",
            "a * b =  16.0\n",
            "a / b =  1.0\n",
            "a // b =  1.0\n",
            "a % b =  0.0\n",
            "a ** b =  256.0\n"
          ]
        }
      ]
    },
    {
      "cell_type": "markdown",
      "source": [
        "# 논리형 연산자\n",
        "- Bool형은 True와 False 값으로 정의\n",
        "- AND / OR / NOT"
      ],
      "metadata": {
        "id": "RDSYLq7-Gy7A"
      }
    },
    {
      "cell_type": "code",
      "source": [
        "x = 5 > 4\n",
        "# print(x)\n",
        "y = 3 > 4\n",
        "# print(y)\n",
        "\n",
        "print(x and x)\n",
        "print(x and y)\n",
        "print(y and x)\n",
        "print(y and y)\n",
        "print(\"----\")\n",
        "print(x or x)\n",
        "print(x or y)\n",
        "print(y or x)\n",
        "print(y or y)"
      ],
      "metadata": {
        "colab": {
          "base_uri": "https://localhost:8080/"
        },
        "id": "2PvdrtRPHBcH",
        "outputId": "20e7fc03-05c1-4081-ecaa-69d70ecb838d"
      },
      "execution_count": null,
      "outputs": [
        {
          "output_type": "stream",
          "name": "stdout",
          "text": [
            "True\n",
            "False\n",
            "False\n",
            "False\n",
            "----\n",
            "True\n",
            "True\n",
            "True\n",
            "False\n"
          ]
        }
      ]
    },
    {
      "cell_type": "markdown",
      "source": [
        "## 비교 연산자\n",
        "- 부등호를 의미한다.\n",
        "- 비교 연산자로 True와 Flase 값을 도출"
      ],
      "metadata": {
        "id": "NwU1ClxXH2cC"
      }
    },
    {
      "cell_type": "markdown",
      "source": [
        "## 논리 & 비교 연산자 응용"
      ],
      "metadata": {
        "id": "0e9lEHS5IMhx"
      }
    },
    {
      "cell_type": "code",
      "source": [
        "var = input(\"입력하여 주세요...\") #숫자가 'srt'로 출력\n",
        "print(type(var))"
      ],
      "metadata": {
        "colab": {
          "base_uri": "https://localhost:8080/"
        },
        "id": "ogoy5znyIREJ",
        "outputId": "43e47228-12bd-4855-f47a-414134f56c03"
      },
      "execution_count": null,
      "outputs": [
        {
          "output_type": "stream",
          "name": "stdout",
          "text": [
            "입력하여 주세요...1\n",
            "<class 'str'>\n"
          ]
        }
      ]
    },
    {
      "cell_type": "markdown",
      "source": [
        "-  형변환을 해준다.\n",
        "- 문자열, 정수, 실수..."
      ],
      "metadata": {
        "id": "1i6NcHNoIgno"
      }
    },
    {
      "cell_type": "code",
      "source": [
        "var = int(\"1\")\n",
        "print(type(var))"
      ],
      "metadata": {
        "colab": {
          "base_uri": "https://localhost:8080/"
        },
        "id": "pClLlb-PIuFH",
        "outputId": "df4fe7df-8cd1-435d-92bb-84bbae2fb7f2"
      },
      "execution_count": null,
      "outputs": [
        {
          "output_type": "stream",
          "name": "stdout",
          "text": [
            "<class 'int'>\n"
          ]
        }
      ]
    },
    {
      "cell_type": "code",
      "source": [
        "var = int(input(\"숫자를 입력하여 주세요...\"))\n",
        "print(type(var))"
      ],
      "metadata": {
        "colab": {
          "base_uri": "https://localhost:8080/"
        },
        "id": "UW886xUGI_fT",
        "outputId": "f6e3314d-cfcd-4e66-8481-630677efd059"
      },
      "execution_count": null,
      "outputs": [
        {
          "output_type": "stream",
          "name": "stdout",
          "text": [
            "숫자를 입력하여 주세요...1\n",
            "<class 'int'>\n"
          ]
        }
      ]
    },
    {
      "cell_type": "code",
      "source": [
        "num1 = int(input(\"숫자를 입력하여 주세요...\")) # 10\n",
        "num2 = int(input(\"숫자를 입력하여 주세요...\")) # 3\n",
        "num3 = int(input(\"숫자를 입력하여 주세요...\")) # 5\n",
        "num4 = int(input(\"숫자를 입력하여 주세요...\"))#  7\n",
        "\n",
        "var1 = num1 >= num2 # True\n",
        "var2 = num3 < num4 # True\n",
        "print(var and var2)\n",
        "print(var1 or var2)"
      ],
      "metadata": {
        "colab": {
          "base_uri": "https://localhost:8080/"
        },
        "id": "YvmVGs9GJIU_",
        "outputId": "eca3c8a2-5709-4896-d031-58287f52163a"
      },
      "execution_count": null,
      "outputs": [
        {
          "output_type": "stream",
          "name": "stdout",
          "text": [
            "숫자를 입력하여 주세요...10\n",
            "숫자를 입력하여 주세요...3\n",
            "숫자를 입력하여 주세요...5\n",
            "숫자를 입력하여 주세요...7\n",
            "True\n",
            "True\n"
          ]
        }
      ]
    },
    {
      "cell_type": "markdown",
      "source": [
        "# 변수 (Non Scalar)\n",
        "- 문자열을 입력"
      ],
      "metadata": {
        "id": "axniBlSUP7V2"
      }
    },
    {
      "cell_type": "code",
      "source": [
        "print(\"'Hello, World'\")\n",
        "print('\"Hello, World\"')"
      ],
      "metadata": {
        "colab": {
          "base_uri": "https://localhost:8080/"
        },
        "id": "szJtMFyNQDli",
        "outputId": "5ee66a19-cdeb-4df3-fc97-09133717d6cf"
      },
      "execution_count": null,
      "outputs": [
        {
          "output_type": "stream",
          "name": "stdout",
          "text": [
            "'Hello, World'\n",
            "\"Hello, World\"\n"
          ]
        }
      ]
    },
    {
      "cell_type": "code",
      "source": [
        "print('Hello World\")"
      ],
      "metadata": {
        "colab": {
          "base_uri": "https://localhost:8080/",
          "height": 136
        },
        "id": "BjAilmM8QSR0",
        "outputId": "7b760980-8f1b-4a5e-8c2b-36806564a320"
      },
      "execution_count": null,
      "outputs": [
        {
          "output_type": "error",
          "ename": "SyntaxError",
          "evalue": "ignored",
          "traceback": [
            "\u001b[0;36m  File \u001b[0;32m\"<ipython-input-37-91c08de83dce>\"\u001b[0;36m, line \u001b[0;32m1\u001b[0m\n\u001b[0;31m    print('Hello World\")\u001b[0m\n\u001b[0m                        ^\u001b[0m\n\u001b[0;31mSyntaxError\u001b[0m\u001b[0;31m:\u001b[0m EOL while scanning string literal\n"
          ]
        }
      ]
    },
    {
      "cell_type": "markdown",
      "source": [
        "## String 연산자\n",
        "- 덧셈 연산자를 써보자."
      ],
      "metadata": {
        "id": "Nt_imi90Qs-3"
      }
    },
    {
      "cell_type": "code",
      "source": [
        "str1 = \"Hello \"\n",
        "str2 = \"World! \"\n",
        "num1 = 1\n",
        "\n",
        "print(str1 + str2)\n",
        "print(str1 + str2 + num1) # 문자와 숫자는 더할 수 없다"
      ],
      "metadata": {
        "colab": {
          "base_uri": "https://localhost:8080/",
          "height": 226
        },
        "id": "syW3tpK5Q6B3",
        "outputId": "5ea27f1d-7d56-4526-dd05-6063a63ba679"
      },
      "execution_count": null,
      "outputs": [
        {
          "output_type": "stream",
          "name": "stdout",
          "text": [
            "Hello World! \n"
          ]
        },
        {
          "output_type": "error",
          "ename": "TypeError",
          "evalue": "ignored",
          "traceback": [
            "\u001b[0;31m---------------------------------------------------------------------------\u001b[0m",
            "\u001b[0;31mTypeError\u001b[0m                                 Traceback (most recent call last)",
            "\u001b[0;32m<ipython-input-43-dac6586f8b13>\u001b[0m in \u001b[0;36m<module>\u001b[0;34m()\u001b[0m\n\u001b[1;32m      4\u001b[0m \u001b[0;34m\u001b[0m\u001b[0m\n\u001b[1;32m      5\u001b[0m \u001b[0mprint\u001b[0m\u001b[0;34m(\u001b[0m\u001b[0mstr1\u001b[0m \u001b[0;34m+\u001b[0m \u001b[0mstr2\u001b[0m\u001b[0;34m)\u001b[0m\u001b[0;34m\u001b[0m\u001b[0;34m\u001b[0m\u001b[0m\n\u001b[0;32m----> 6\u001b[0;31m \u001b[0mprint\u001b[0m\u001b[0;34m(\u001b[0m\u001b[0mstr1\u001b[0m \u001b[0;34m+\u001b[0m \u001b[0mstr2\u001b[0m \u001b[0;34m+\u001b[0m \u001b[0mnum1\u001b[0m\u001b[0;34m)\u001b[0m \u001b[0;31m# 문자와 숫자는 더할 수 없다\u001b[0m\u001b[0;34m\u001b[0m\u001b[0;34m\u001b[0m\u001b[0m\n\u001b[0m",
            "\u001b[0;31mTypeError\u001b[0m: can only concatenate str (not \"int\") to str"
          ]
        }
      ]
    },
    {
      "cell_type": "markdown",
      "source": [
        "- 곱셈 연산자를 사용해본다."
      ],
      "metadata": {
        "id": "jwOQN8FsRSd6"
      }
    },
    {
      "cell_type": "code",
      "source": [
        "greeting = str1 + str2\n",
        "print(greeting * 3)"
      ],
      "metadata": {
        "colab": {
          "base_uri": "https://localhost:8080/"
        },
        "id": "fJPrR2KRRVsh",
        "outputId": "722ffd0a-c0b7-463e-c884-a18d5c3aa446"
      },
      "execution_count": null,
      "outputs": [
        {
          "output_type": "stream",
          "name": "stdout",
          "text": [
            "Hello World! Hello World! Hello World! \n"
          ]
        }
      ]
    },
    {
      "cell_type": "markdown",
      "source": [
        "## Indexing\n",
        "- 문자열 인덱싱은 각각의 문자열 안에서 범위를 지정하여 특정 문자를 추출한다."
      ],
      "metadata": {
        "id": "U9ZylFFgRmpT"
      }
    },
    {
      "cell_type": "code",
      "source": [
        "greeting = \"Hello Kaggle!\" # 0부터 시작\n",
        "print(greeting[10])"
      ],
      "metadata": {
        "colab": {
          "base_uri": "https://localhost:8080/"
        },
        "id": "LwENE24URw5M",
        "outputId": "f311733c-b72c-4632-ec5f-ceda2410f3e7"
      },
      "execution_count": null,
      "outputs": [
        {
          "output_type": "stream",
          "name": "stdout",
          "text": [
            "l\n"
          ]
        }
      ]
    },
    {
      "cell_type": "markdown",
      "source": [
        "# 슬라이싱\n",
        "- 범위를 지정하고 데이터를 가져온다."
      ],
      "metadata": {
        "id": "KYbXMZxYSmwT"
      }
    },
    {
      "cell_type": "code",
      "source": [
        "greeting = \"Hello Kaggle!\"\n",
        "\n",
        "print(greeting[:]) # 전체 출력\n",
        "print(greeting[6:]) # 시작인덱스:끝인덱스 6부터 끝까지\n",
        "print(greeting[:6]) # 처음부터 5까지\n",
        "print(greeting[3:9]) # 3부터 8까지\n",
        "print(greeting[0:9:2]) # 0부터 8까지 2칸 마다 출력"
      ],
      "metadata": {
        "colab": {
          "base_uri": "https://localhost:8080/"
        },
        "id": "URG-bJ5pSsZm",
        "outputId": "0b0da098-61eb-4d3b-c4fe-8b62d1675788"
      },
      "execution_count": null,
      "outputs": [
        {
          "output_type": "stream",
          "name": "stdout",
          "text": [
            "Hello Kaggle!\n",
            "Kaggle!\n",
            "Hello \n",
            "lo Kag\n",
            "HloKg\n"
          ]
        }
      ]
    },
    {
      "cell_type": "code",
      "source": [
        "greeting[13] # 인덱스 범위 안에 없다"
      ],
      "metadata": {
        "colab": {
          "base_uri": "https://localhost:8080/",
          "height": 172
        },
        "id": "6sjNWU19TspI",
        "outputId": "46abf67d-4dc5-42a4-a997-6f8f92128c69"
      },
      "execution_count": null,
      "outputs": [
        {
          "output_type": "error",
          "ename": "IndexError",
          "evalue": "ignored",
          "traceback": [
            "\u001b[0;31m---------------------------------------------------------------------------\u001b[0m",
            "\u001b[0;31mIndexError\u001b[0m                                Traceback (most recent call last)",
            "\u001b[0;32m<ipython-input-54-ff3909a635f6>\u001b[0m in \u001b[0;36m<module>\u001b[0;34m()\u001b[0m\n\u001b[0;32m----> 1\u001b[0;31m \u001b[0mgreeting\u001b[0m\u001b[0;34m[\u001b[0m\u001b[0;36m13\u001b[0m\u001b[0;34m]\u001b[0m\u001b[0;34m\u001b[0m\u001b[0;34m\u001b[0m\u001b[0m\n\u001b[0m",
            "\u001b[0;31mIndexError\u001b[0m: string index out of range"
          ]
        }
      ]
    },
    {
      "cell_type": "markdown",
      "source": [
        "# 리스트\n",
        "- []\n",
        "- 시퀀스 데이터 타입\n",
        "- 데이터에 순서가 존재, 슬라이싱이 가능\n",
        "- 대괄호('[값1, 값2, 값3]')"
      ],
      "metadata": {
        "id": "nRvmInCkVOGz"
      }
    },
    {
      "cell_type": "code",
      "source": [
        "a = [] # 빈 리스트 생성\n",
        "a_func = list() # 빈 리스트 생성\n",
        "b = [1] # 숫자가 요소가 될 수 있다.\n",
        "c = ['apple'] # 문자열도 요소가 될 수 있다.\n",
        "d = [1, 2, ['apple']] # 리스트 안에 또 다른 리스트를 요소로 넣을 수 있다.\n",
        "\n",
        "print(a)\n",
        "print(a_func)\n",
        "print(b)\n",
        "print(c)\n",
        "print(d)\n",
        "\n",
        "print(type(d))"
      ],
      "metadata": {
        "colab": {
          "base_uri": "https://localhost:8080/"
        },
        "id": "2aiLRTS01Tk6",
        "outputId": "48f057ce-1573-4b30-cade-80cd70f8f12e"
      },
      "execution_count": null,
      "outputs": [
        {
          "output_type": "stream",
          "name": "stdout",
          "text": [
            "[]\n",
            "[]\n",
            "[1]\n",
            "['apple']\n",
            "[1, 2, ['apple']]\n",
            "<class 'list'>\n"
          ]
        }
      ]
    },
    {
      "cell_type": "markdown",
      "source": [
        "## 리스트 슬라이싱"
      ],
      "metadata": {
        "id": "e9YFAwUL2AWP"
      }
    },
    {
      "cell_type": "code",
      "source": [
        "a = [1, 2, 3, 4, 5, 6, 7, 8, 9, 10]\n",
        "#print(a)\n",
        "print(a[1]) # 원하는 자리의 요소 출력\n",
        "print(a[6:])\n",
        "print(a[:5])\n",
        "print(a[3:5])\n",
        "print(a[1:9:2])"
      ],
      "metadata": {
        "colab": {
          "base_uri": "https://localhost:8080/"
        },
        "id": "VPvlTJ_X2EHm",
        "outputId": "92e0b77a-6413-4c20-babe-579e34eac5d4"
      },
      "execution_count": null,
      "outputs": [
        {
          "output_type": "stream",
          "name": "stdout",
          "text": [
            "2\n",
            "[7, 8, 9, 10]\n",
            "[1, 2, 3, 4, 5]\n",
            "[4, 5]\n",
            "[2, 4, 6, 8]\n"
          ]
        }
      ]
    },
    {
      "cell_type": "code",
      "source": [
        "a = [[\"apple\", \"banana\", \"cherry\"], 1]\n",
        "print(a[0])\n",
        "print(a[0][1])\n",
        "print(a[0][0][4])\n",
        "# print(a[0][0][-1]) # 마지막 자리는 '-1'로도 사용 가능하다 \n",
        "print(a[0][2][2]) # cherry의 e"
      ],
      "metadata": {
        "colab": {
          "base_uri": "https://localhost:8080/"
        },
        "id": "6czV7IlG2vq4",
        "outputId": "4c89dcac-b07c-4ae4-9c51-6259c0bb6803"
      },
      "execution_count": null,
      "outputs": [
        {
          "output_type": "stream",
          "name": "stdout",
          "text": [
            "['apple', 'banana', 'cherry']\n",
            "banana\n",
            "e\n",
            "e\n"
          ]
        }
      ]
    },
    {
      "cell_type": "code",
      "source": [
        "a = [1, 2, 3, 4, 5, 6, 7, 8, 9, 10]\n",
        "#print(a)\n",
        "print(a[::-1]) # 역순\n",
        "print(a[::2]) # 처음부터 2칸 마다 출력"
      ],
      "metadata": {
        "colab": {
          "base_uri": "https://localhost:8080/"
        },
        "id": "xeEwVUfx4aU6",
        "outputId": "984b7c8f-09d5-43ae-cc2b-419d7aaa654a"
      },
      "execution_count": null,
      "outputs": [
        {
          "output_type": "stream",
          "name": "stdout",
          "text": [
            "[10, 9, 8, 7, 6, 5, 4, 3, 2, 1]\n",
            "[1, 3, 5, 7, 9]\n"
          ]
        }
      ]
    },
    {
      "cell_type": "markdown",
      "source": [
        "## 리스트 연산자"
      ],
      "metadata": {
        "id": "qzKbThIH4qFI"
      }
    },
    {
      "cell_type": "code",
      "source": [
        "a = [\"john\", \"evan\"]\n",
        "b = [\"alice\", \"eva\"]\n",
        "\n",
        "c = a + b\n",
        "print(c)\n",
        "d = b + a\n",
        "print(d)"
      ],
      "metadata": {
        "colab": {
          "base_uri": "https://localhost:8080/"
        },
        "id": "aamfkZaX4yNt",
        "outputId": "8b62a574-2900-4a56-b9f7-37a6aa4ed4e2"
      },
      "execution_count": null,
      "outputs": [
        {
          "output_type": "stream",
          "name": "stdout",
          "text": [
            "['john', 'evan', 'alice', 'eva']\n",
            "['alice', 'eva', 'john', 'evan']\n"
          ]
        }
      ]
    },
    {
      "cell_type": "code",
      "source": [
        "c = a * 3\n",
        "d = b *0\n",
        "print(\"a * 3 = \", c)\n",
        "print(\"b * 0 = \", d) # 리스트 초기화"
      ],
      "metadata": {
        "colab": {
          "base_uri": "https://localhost:8080/"
        },
        "id": "0mbhsVgq5NJQ",
        "outputId": "1089602a-20ef-487c-b52e-b140aa94a4d7"
      },
      "execution_count": null,
      "outputs": [
        {
          "output_type": "stream",
          "name": "stdout",
          "text": [
            "a * 3 =  ['john', 'evan', 'john', 'evan', 'john', 'evan']\n",
            "b * 0 =  []\n"
          ]
        }
      ]
    },
    {
      "cell_type": "markdown",
      "source": [
        "## 리스트 수정 및 삭제"
      ],
      "metadata": {
        "id": "b4Vc80bp5lJ3"
      }
    },
    {
      "cell_type": "code",
      "source": [
        "a = [0, 1, 2]\n",
        "a[1] = \"b\"\n",
        "print(a)"
      ],
      "metadata": {
        "colab": {
          "base_uri": "https://localhost:8080/"
        },
        "id": "ZNliNR6x5pNT",
        "outputId": "994ffa6b-aa82-4a66-fc2f-1ed5cd7d24ac"
      },
      "execution_count": null,
      "outputs": [
        {
          "output_type": "stream",
          "name": "stdout",
          "text": [
            "[0, 'b', 2]\n"
          ]
        }
      ]
    },
    {
      "cell_type": "markdown",
      "source": [
        "### 리스트 값 추가하기"
      ],
      "metadata": {
        "id": "Of00z-Zy6TYM"
      }
    },
    {
      "cell_type": "code",
      "source": [
        "a = [100, 200, 300]\n",
        "a.append(400)\n",
        "print(a)\n",
        "\n",
        "a.append([500, 600]) # 리스트 안에 리스트로 추가\n",
        "print(a)"
      ],
      "metadata": {
        "colab": {
          "base_uri": "https://localhost:8080/"
        },
        "id": "gjwCkk-Y6WBQ",
        "outputId": "1df0e578-bba9-4c7b-d8d7-aab8263aeab1"
      },
      "execution_count": null,
      "outputs": [
        {
          "output_type": "stream",
          "name": "stdout",
          "text": [
            "[100, 200, 300, 400]\n",
            "[100, 200, 300, 400, [500, 600]]\n"
          ]
        }
      ]
    },
    {
      "cell_type": "code",
      "source": [
        "a = [100, 200, 300]\n",
        "a.append(400)\n",
        "print(a)\n",
        "\n",
        "a.extend([500, 600]) # 리스트 안에 요소로 추가\n",
        "print(a)"
      ],
      "metadata": {
        "colab": {
          "base_uri": "https://localhost:8080/"
        },
        "id": "rbDon8ye7aoE",
        "outputId": "29ac81e7-967b-48cb-bdf5-28461f81c978"
      },
      "execution_count": null,
      "outputs": [
        {
          "output_type": "stream",
          "name": "stdout",
          "text": [
            "[100, 200, 300, 400]\n",
            "[100, 200, 300, 400, 500, 600]\n"
          ]
        }
      ]
    },
    {
      "cell_type": "code",
      "source": [
        "a = [0, 1, 2]\n",
        "#a.insert(인덱스번호, 넣고자하는 값\n",
        "a.insert(1, 100)\n",
        "print(a)"
      ],
      "metadata": {
        "colab": {
          "base_uri": "https://localhost:8080/"
        },
        "id": "5c1pP-4q7jhw",
        "outputId": "be19ca3f-3e05-464d-8cd6-dcdae3116a84"
      },
      "execution_count": null,
      "outputs": [
        {
          "output_type": "stream",
          "name": "stdout",
          "text": [
            "[0, 100, 1, 2]\n"
          ]
        }
      ]
    },
    {
      "cell_type": "markdown",
      "source": [
        "### 리스트 값 삭제하기"
      ],
      "metadata": {
        "id": "-ArE7D6X75ts"
      }
    },
    {
      "cell_type": "code",
      "source": [
        "a = [4, 3, 2, 1, \"A\"]\n",
        "a.remove(1) # 리스트 안에 있는 값을 삭제\n",
        "print(a)\n",
        "a.remove(\"A\")\n",
        "print(a)"
      ],
      "metadata": {
        "colab": {
          "base_uri": "https://localhost:8080/"
        },
        "id": "lNLxR49y77-j",
        "outputId": "5fe4f610-7b26-461c-b003-b417bac798e2"
      },
      "execution_count": null,
      "outputs": [
        {
          "output_type": "stream",
          "name": "stdout",
          "text": [
            "[4, 3, 2, 'A']\n",
            "[4, 3, 2]\n"
          ]
        }
      ]
    },
    {
      "cell_type": "code",
      "source": [
        "a = [1, 2, 3, 4, 5, 6, 7, 8, 9, 10]\n",
        "\n",
        "del a[1] # 인덱스 번호에 맞는 값을 삭제\n",
        "print(a)\n",
        "\n",
        "del a[1:5]\n",
        "print(a)"
      ],
      "metadata": {
        "colab": {
          "base_uri": "https://localhost:8080/"
        },
        "id": "Pj72NQcC8V-G",
        "outputId": "54587b0b-1e32-44ca-aabe-d5e14c84e13e"
      },
      "execution_count": null,
      "outputs": [
        {
          "output_type": "stream",
          "name": "stdout",
          "text": [
            "[1, 3, 4, 5, 6, 7, 8, 9, 10]\n",
            "[1, 7, 8, 9, 10]\n"
          ]
        }
      ]
    },
    {
      "cell_type": "code",
      "source": [
        "b = [\"a\", \"b\", \"c\", \"d\"]\n",
        "x = b.pop() # 마지막 리스트 요소 삭제\n",
        "print(x)\n",
        "print(b)"
      ],
      "metadata": {
        "colab": {
          "base_uri": "https://localhost:8080/"
        },
        "id": "yxk4t4Tf8rxN",
        "outputId": "654f2395-c830-4f3b-cf01-228d4966c1f1"
      },
      "execution_count": null,
      "outputs": [
        {
          "output_type": "stream",
          "name": "stdout",
          "text": [
            "d\n",
            "['a', 'b', 'c']\n"
          ]
        }
      ]
    },
    {
      "cell_type": "markdown",
      "source": [
        "### 그 외 메서드"
      ],
      "metadata": {
        "id": "4NEeH9799Kp5"
      }
    },
    {
      "cell_type": "code",
      "source": [
        "a = [0, 1, 2, 3]\n",
        "print(a)\n",
        "\n",
        "a.clear() # 리스트 초기화\n",
        "print(a)"
      ],
      "metadata": {
        "colab": {
          "base_uri": "https://localhost:8080/"
        },
        "id": "g3XPZV5A9NMY",
        "outputId": "149d50b9-45b5-478a-a5be-925774f38f70"
      },
      "execution_count": null,
      "outputs": [
        {
          "output_type": "stream",
          "name": "stdout",
          "text": [
            "[0, 1, 2, 3]\n",
            "[]\n"
          ]
        }
      ]
    },
    {
      "cell_type": "code",
      "source": [
        "a = [1, \"a\", \"a\", \"b\", \"b\"]\n",
        "print(a.index(\"a\")) # 처음으로 나오는 인덱스 번호 출력\n",
        "print(a.index(\"b\"))"
      ],
      "metadata": {
        "colab": {
          "base_uri": "https://localhost:8080/"
        },
        "id": "1ld6A8bC9UHI",
        "outputId": "edc5a7b5-c4ab-4c28-efa1-0f9607832940"
      },
      "execution_count": null,
      "outputs": [
        {
          "output_type": "stream",
          "name": "stdout",
          "text": [
            "1\n",
            "3\n"
          ]
        }
      ]
    },
    {
      "cell_type": "code",
      "source": [
        "a = [1, 4, 5, 2, 3]\n",
        "b = [1, 4, 5, 2, 3]\n",
        "\n",
        "a.sort()\n",
        "print(\"sort(): \" , a)\n",
        "\n",
        "# 내림차순, sort()\n",
        "b.sort(reverse=True)\n",
        "print(\"sort(reverse=True): \", b)"
      ],
      "metadata": {
        "colab": {
          "base_uri": "https://localhost:8080/"
        },
        "id": "ZQ3--GruCcVU",
        "outputId": "018d10eb-5ca0-4fce-86c3-4dc28e59b14d"
      },
      "execution_count": null,
      "outputs": [
        {
          "output_type": "stream",
          "name": "stdout",
          "text": [
            "sort():  [1, 2, 3, 4, 5]\n",
            "sort(reverse=True):  [5, 4, 3, 2, 1]\n"
          ]
        }
      ]
    },
    {
      "cell_type": "code",
      "source": [
        "c = [4, 3, 2, 'a']\n",
        "c.sort() # 2가지 타입이 있어서 에러"
      ],
      "metadata": {
        "colab": {
          "base_uri": "https://localhost:8080/",
          "height": 190
        },
        "id": "0nEOfdBNDVCR",
        "outputId": "1062f02f-4612-436c-9810-b5ae426bf136"
      },
      "execution_count": null,
      "outputs": [
        {
          "output_type": "error",
          "ename": "TypeError",
          "evalue": "ignored",
          "traceback": [
            "\u001b[0;31m---------------------------------------------------------------------------\u001b[0m",
            "\u001b[0;31mTypeError\u001b[0m                                 Traceback (most recent call last)",
            "\u001b[0;32m<ipython-input-97-9fc5b5da7505>\u001b[0m in \u001b[0;36m<module>\u001b[0;34m()\u001b[0m\n\u001b[1;32m      1\u001b[0m \u001b[0mc\u001b[0m \u001b[0;34m=\u001b[0m \u001b[0;34m[\u001b[0m\u001b[0;36m4\u001b[0m\u001b[0;34m,\u001b[0m \u001b[0;36m3\u001b[0m\u001b[0;34m,\u001b[0m \u001b[0;36m2\u001b[0m\u001b[0;34m,\u001b[0m \u001b[0;34m'a'\u001b[0m\u001b[0;34m]\u001b[0m\u001b[0;34m\u001b[0m\u001b[0;34m\u001b[0m\u001b[0m\n\u001b[0;32m----> 2\u001b[0;31m \u001b[0mc\u001b[0m\u001b[0;34m.\u001b[0m\u001b[0msort\u001b[0m\u001b[0;34m(\u001b[0m\u001b[0;34m)\u001b[0m\u001b[0;34m\u001b[0m\u001b[0;34m\u001b[0m\u001b[0m\n\u001b[0m",
            "\u001b[0;31mTypeError\u001b[0m: '<' not supported between instances of 'str' and 'int'"
          ]
        }
      ]
    },
    {
      "cell_type": "markdown",
      "source": [
        "# 튜플\n",
        "- ()\n",
        "- List와 비슷하다.\n",
        "- 슬라이싱, 인덱싱 등등 비슷하다.\n",
        "- (vs 리스트) : 튜플은 수정 삭제가 안된다."
      ],
      "metadata": {
        "id": "2FgL6kESDtB6"
      }
    },
    {
      "cell_type": "code",
      "source": [
        "tuple1 = (0) # 끝에 콤마(,)를 붙이지 않을 때 --> int\n",
        "tuple2 = (0,) # 끝에 콤마(,)를 붙일 때 --> tuple\n",
        "tuple3 = 0, 1, 2\n",
        "print(type(tuple1))\n",
        "print(type(tuple2))\n",
        "print(type(tuple3))"
      ],
      "metadata": {
        "colab": {
          "base_uri": "https://localhost:8080/"
        },
        "id": "HbHZL73hECBj",
        "outputId": "c7fe7b56-5b94-453f-8e2f-524f6063794e"
      },
      "execution_count": null,
      "outputs": [
        {
          "output_type": "stream",
          "name": "stdout",
          "text": [
            "<class 'int'>\n",
            "<class 'tuple'>\n",
            "<class 'tuple'>\n"
          ]
        }
      ]
    },
    {
      "cell_type": "code",
      "source": [
        "a = (0, 1, 2, 3, 'a')\n",
        "print(type(a))\n",
        "\n",
        "# a[1] = \"b\" # 튜플은 수정이 안된다.\n",
        "# del a[4] # 튜플은 삭제가 안된다.\n",
        "\n",
        "# 굳이 바꾸고 싶다면\n",
        "b = list(a)\n",
        "print(b)\n",
        "b[1] = \"b\"\n",
        "\n",
        "a = tuple(b)\n",
        "print(a)"
      ],
      "metadata": {
        "colab": {
          "base_uri": "https://localhost:8080/"
        },
        "id": "WJuT0lGVErnF",
        "outputId": "4f51916e-2441-4c05-ef57-db2c682f9ada"
      },
      "execution_count": null,
      "outputs": [
        {
          "output_type": "stream",
          "name": "stdout",
          "text": [
            "<class 'tuple'>\n",
            "[0, 1, 2, 3, 'a']\n",
            "(0, 'b', 2, 3, 'a')\n"
          ]
        }
      ]
    },
    {
      "cell_type": "markdown",
      "source": [
        "## 튜플 인덱싱 및 슬라이싱 하기"
      ],
      "metadata": {
        "id": "aYAkH2T0FsU4"
      }
    },
    {
      "cell_type": "code",
      "source": [
        "a = (0, 1, 2, 3, 'a')\n",
        "print(a[1])\n",
        "print(a[3])\n",
        "print(a[ :3])"
      ],
      "metadata": {
        "colab": {
          "base_uri": "https://localhost:8080/"
        },
        "id": "9ERHta0yFvl3",
        "outputId": "5ec7f14f-aed3-4f75-bb6b-a0de5d22a5e1"
      },
      "execution_count": null,
      "outputs": [
        {
          "output_type": "stream",
          "name": "stdout",
          "text": [
            "1\n",
            "3\n",
            "(0, 1, 2)\n"
          ]
        }
      ]
    },
    {
      "cell_type": "markdown",
      "source": [
        "## 더하기 곱셈 연산자 사용"
      ],
      "metadata": {
        "id": "sVq7HlEFF_hE"
      }
    },
    {
      "cell_type": "code",
      "source": [
        "t1 = (1, 2, 3)\n",
        "t2 = (4, 5, 6)\n",
        "\n",
        "print(t1 + t2)\n",
        "print(t1 * 3)\n",
        "print(t1 * 0)"
      ],
      "metadata": {
        "colab": {
          "base_uri": "https://localhost:8080/"
        },
        "id": "SeAPbmbGGJab",
        "outputId": "743b5861-58c2-447b-a593-6d897fb690af"
      },
      "execution_count": null,
      "outputs": [
        {
          "output_type": "stream",
          "name": "stdout",
          "text": [
            "(1, 2, 3, 4, 5, 6)\n",
            "(1, 2, 3, 1, 2, 3, 1, 2, 3)\n",
            "()\n"
          ]
        }
      ]
    },
    {
      "cell_type": "markdown",
      "source": [
        "# 딕셔너리\n",
        "- key-value 값으로 나뉨."
      ],
      "metadata": {
        "id": "FrCBslauHCSZ"
      }
    },
    {
      "cell_type": "code",
      "source": [
        "dict_01 = {'teacher' : 'evan',\n",
        "          'class' : 601,\n",
        "          'students' : 24,\n",
        "          '학생이름' : ['A', 'z']}\n",
        "# print(dict_01)\n",
        "print(dict_01['teacher'])\n",
        "print(dict_01['class'])\n",
        "print(dict_01['학생이름'])\n",
        "print(dict_01['선생님'])"
      ],
      "metadata": {
        "colab": {
          "base_uri": "https://localhost:8080/",
          "height": 263
        },
        "id": "OHbMoKB2HEOO",
        "outputId": "6d0dbc99-a976-4bd7-b4dc-9fb51c876b7a"
      },
      "execution_count": null,
      "outputs": [
        {
          "output_type": "stream",
          "name": "stdout",
          "text": [
            "evan\n",
            "601\n",
            "['A', 'z']\n"
          ]
        },
        {
          "output_type": "error",
          "ename": "KeyError",
          "evalue": "ignored",
          "traceback": [
            "\u001b[0;31m---------------------------------------------------------------------------\u001b[0m",
            "\u001b[0;31mKeyError\u001b[0m                                  Traceback (most recent call last)",
            "\u001b[0;32m<ipython-input-125-16f1481ccef2>\u001b[0m in \u001b[0;36m<module>\u001b[0;34m()\u001b[0m\n\u001b[1;32m      7\u001b[0m \u001b[0mprint\u001b[0m\u001b[0;34m(\u001b[0m\u001b[0mdict_01\u001b[0m\u001b[0;34m[\u001b[0m\u001b[0;34m'class'\u001b[0m\u001b[0;34m]\u001b[0m\u001b[0;34m)\u001b[0m\u001b[0;34m\u001b[0m\u001b[0;34m\u001b[0m\u001b[0m\n\u001b[1;32m      8\u001b[0m \u001b[0mprint\u001b[0m\u001b[0;34m(\u001b[0m\u001b[0mdict_01\u001b[0m\u001b[0;34m[\u001b[0m\u001b[0;34m'학생이름'\u001b[0m\u001b[0;34m]\u001b[0m\u001b[0;34m)\u001b[0m\u001b[0;34m\u001b[0m\u001b[0;34m\u001b[0m\u001b[0m\n\u001b[0;32m----> 9\u001b[0;31m \u001b[0mprint\u001b[0m\u001b[0;34m(\u001b[0m\u001b[0mdict_01\u001b[0m\u001b[0;34m[\u001b[0m\u001b[0;34m'선생님'\u001b[0m\u001b[0;34m]\u001b[0m\u001b[0;34m)\u001b[0m\u001b[0;34m\u001b[0m\u001b[0;34m\u001b[0m\u001b[0m\n\u001b[0m",
            "\u001b[0;31mKeyError\u001b[0m: '선생님'"
          ]
        }
      ]
    },
    {
      "cell_type": "code",
      "source": [
        "print(dict_01.keys())"
      ],
      "metadata": {
        "colab": {
          "base_uri": "https://localhost:8080/"
        },
        "id": "AjY9p93YJCdw",
        "outputId": "83ee5312-0081-4f9c-e42d-2c27eb922bff"
      },
      "execution_count": null,
      "outputs": [
        {
          "output_type": "stream",
          "name": "stdout",
          "text": [
            "dict_keys(['teacher', 'class', 'students', '학생이름'])\n"
          ]
        }
      ]
    },
    {
      "cell_type": "code",
      "source": [
        "print(dict_01.values())"
      ],
      "metadata": {
        "colab": {
          "base_uri": "https://localhost:8080/"
        },
        "id": "QqOAPQ4kJ8W9",
        "outputId": "22ede180-3533-4269-ce39-3d02c6730c0a"
      },
      "execution_count": null,
      "outputs": [
        {
          "output_type": "stream",
          "name": "stdout",
          "text": [
            "dict_values(['evan', 601, 24, ['A', 'z']])\n"
          ]
        }
      ]
    },
    {
      "cell_type": "code",
      "source": [
        "dict_01.items()"
      ],
      "metadata": {
        "colab": {
          "base_uri": "https://localhost:8080/"
        },
        "id": "R55Y9sg_KVJS",
        "outputId": "a4d632e2-9823-45cd-df68-6af488d1db41"
      },
      "execution_count": null,
      "outputs": [
        {
          "output_type": "execute_result",
          "data": {
            "text/plain": [
              "dict_items([('teacher', 'evan'), ('class', 601), ('students', 24), ('학생이름', ['A', 'z'])])"
            ]
          },
          "metadata": {},
          "execution_count": 122
        }
      ]
    },
    {
      "cell_type": "code",
      "source": [
        "print(dict_01.get(\"teacher\"))\n",
        "print(dict_01.get(\"선생님\")) # key가 없으면 None 출력\n",
        "print(dict_01.get(\"선생님\", \"값 없음\")) # 선생님 이라는 key가 없어서 '값 없음' 출력됨\n",
        "                                        # 이런것은 어떠한 딕셔너리의 값의 유무를 알기위해 사용됨\n",
        "# print(dict_01[\"선생님\"]) # get 함수와 결과는 같지만 에러가 남\n",
        "print(dict_01.get(\"class\"))\n",
        "print(dict_01.get(\"students\"))"
      ],
      "metadata": {
        "colab": {
          "base_uri": "https://localhost:8080/"
        },
        "id": "8cONZPHpKs1m",
        "outputId": "2b34a68e-6c66-41e6-c9f2-048925f354f7"
      },
      "execution_count": null,
      "outputs": [
        {
          "output_type": "stream",
          "name": "stdout",
          "text": [
            "evan\n",
            "None\n",
            "601\n",
            "24\n"
          ]
        }
      ]
    },
    {
      "cell_type": "markdown",
      "source": [
        "# 조건문 & 반복문"
      ],
      "metadata": {
        "id": "80uAaawsQnF4"
      }
    },
    {
      "cell_type": "markdown",
      "source": [
        "## 조건문"
      ],
      "metadata": {
        "id": "wq06E-1YVYkn"
      }
    },
    {
      "cell_type": "code",
      "source": [
        "# 날씨가 맑다 --> 우산을 안 가져간다\n",
        "# 날씨가 흐리다 --> 우산을 챙긴다\n",
        "\n",
        "weather = \"맑음\"\n",
        "if weather == \"비\": # 조건식 True가 나오면\n",
        "  print(\"우산을 가져간다.\")\n",
        "else: # 조건식 False가 나오면\n",
        "  print(\"우산을 가져가지 않는다.\")"
      ],
      "metadata": {
        "colab": {
          "base_uri": "https://localhost:8080/"
        },
        "id": "HQ8VFGeHQy9W",
        "outputId": "79dcc536-ba7d-4453-9f82-8cce9c03f51b"
      },
      "execution_count": null,
      "outputs": [
        {
          "output_type": "stream",
          "name": "stdout",
          "text": [
            "우산을 가져가지 않는다.\n"
          ]
        }
      ]
    },
    {
      "cell_type": "markdown",
      "source": [
        "- 등급표 만들기\n",
        "- 60점 이상 합격 / 불합격"
      ],
      "metadata": {
        "id": "QhqRU3Y7SPo9"
      }
    },
    {
      "cell_type": "code",
      "source": [
        "score = 70\n",
        "if score >= 60:\n",
        "  print(\"합격입니다.\")\n",
        "else:\n",
        "  print(\"불합격입니다.\")"
      ],
      "metadata": {
        "colab": {
          "base_uri": "https://localhost:8080/"
        },
        "id": "jEqgaRMGSV97",
        "outputId": "4d418633-e4e3-4fdd-c844-17bc481119d5"
      },
      "execution_count": null,
      "outputs": [
        {
          "output_type": "stream",
          "name": "stdout",
          "text": [
            "합격입니다.\n"
          ]
        }
      ]
    },
    {
      "cell_type": "code",
      "source": [
        "score = int(input(\"점수를 입력하세요...\"))\n",
        "\n",
        "if score >= 60:\n",
        "  print(\"합격입니다.\")\n",
        "else:\n",
        "  print(\"불합격입니다.\")"
      ],
      "metadata": {
        "colab": {
          "base_uri": "https://localhost:8080/"
        },
        "id": "MC2wVIk2TAXv",
        "outputId": "785742ce-af1c-445e-d1d4-e1bfcad1f71f"
      },
      "execution_count": null,
      "outputs": [
        {
          "output_type": "stream",
          "name": "stdout",
          "text": [
            "점수를 입력하세요...50\n",
            "불합격입니다.\n"
          ]
        }
      ]
    },
    {
      "cell_type": "code",
      "source": [
        "# 90점 이상은 A등급\n",
        "# 80점 이상은 c등급\n",
        "# 나머지는 F등급\n",
        "\n",
        "score = int(input(\"점수를 입력하세요...\"))\n",
        "\n",
        "if score >= 90:\n",
        "  print(\"A등급입니다.\")\n",
        "elif score >= 80:\n",
        "  print(\"B등급입니다.\")\n",
        "else:\n",
        "  print(\"F등급입니다.\")"
      ],
      "metadata": {
        "colab": {
          "base_uri": "https://localhost:8080/"
        },
        "id": "UK_WIXPxUUjL",
        "outputId": "425ed31f-694b-4b7e-a2be-1232502467fe"
      },
      "execution_count": null,
      "outputs": [
        {
          "output_type": "stream",
          "name": "stdout",
          "text": [
            "점수를 입력하세요...87\n",
            "B등급입니다.\n"
          ]
        }
      ]
    },
    {
      "cell_type": "markdown",
      "source": [
        "## 반복문\n",
        "- 안녕하세요! 10번 반복하세요"
      ],
      "metadata": {
        "id": "gMR1_zkzVbGo"
      }
    },
    {
      "cell_type": "code",
      "source": [
        "for i in range(10):\n",
        "  print(i + 1, \"안녕하세요!\")"
      ],
      "metadata": {
        "colab": {
          "base_uri": "https://localhost:8080/"
        },
        "id": "HpXGXq02Vc1n",
        "outputId": "10446ea8-fbda-434e-b21d-a14f551d95bf"
      },
      "execution_count": null,
      "outputs": [
        {
          "output_type": "stream",
          "name": "stdout",
          "text": [
            "1 안녕하세요!\n",
            "2 안녕하세요!\n",
            "3 안녕하세요!\n",
            "4 안녕하세요!\n",
            "5 안녕하세요!\n",
            "6 안녕하세요!\n",
            "7 안녕하세요!\n",
            "8 안녕하세요!\n",
            "9 안녕하세요!\n",
            "10 안녕하세요!\n"
          ]
        }
      ]
    },
    {
      "cell_type": "code",
      "source": [
        "count = range(50)\n",
        "print(count)\n",
        "\n",
        "for n in count:\n",
        "  print(str(n + 1) + \"번째\")\n",
        "  if (n + 1) == 5:\n",
        "    print(\"그만합니다!\")\n",
        "    break\n",
        "  print(\"축구 슈팅\")"
      ],
      "metadata": {
        "colab": {
          "base_uri": "https://localhost:8080/"
        },
        "id": "8u0f8q6ZXFys",
        "outputId": "bf7413ce-fa43-4d45-bdfb-9b12b742d680"
      },
      "execution_count": null,
      "outputs": [
        {
          "output_type": "stream",
          "name": "stdout",
          "text": [
            "range(0, 50)\n",
            "1번째\n",
            "축구 슈팅\n",
            "2번째\n",
            "축구 슈팅\n",
            "3번째\n",
            "축구 슈팅\n",
            "4번째\n",
            "축구 슈팅\n",
            "5번째\n",
            "그만합니다!\n"
          ]
        }
      ]
    },
    {
      "cell_type": "code",
      "source": [
        "a = \"hello\"\n",
        "\n",
        "for x in a:\n",
        "  print(x)\n",
        "\n",
        "  if x == \"l\":\n",
        "    break"
      ],
      "metadata": {
        "colab": {
          "base_uri": "https://localhost:8080/"
        },
        "id": "1RE-BHxAYMbq",
        "outputId": "cd23875e-7c56-4978-e4b5-38d6beb9e9ed"
      },
      "execution_count": null,
      "outputs": [
        {
          "output_type": "stream",
          "name": "stdout",
          "text": [
            "h\n",
            "e\n",
            "l\n"
          ]
        }
      ]
    },
    {
      "cell_type": "markdown",
      "source": [
        "- 반복문 작성 방식이 여러가지임..\n",
        "- zip, renge, enumerate, len, etc"
      ],
      "metadata": {
        "id": "akGxCYwYZyFn"
      }
    },
    {
      "cell_type": "code",
      "source": [
        "alphabets = ['A', 'B', 'C']\n",
        "for index, value in enumerate(alphabets): # 인덱스와 벨류는 내가 임의로 정해도 ok\n",
        "  print(index, value)"
      ],
      "metadata": {
        "colab": {
          "base_uri": "https://localhost:8080/"
        },
        "id": "AzMtp4yXZPwQ",
        "outputId": "24e80cf0-3795-47ad-b0a0-1b43ea4c973a"
      },
      "execution_count": null,
      "outputs": [
        {
          "output_type": "stream",
          "name": "stdout",
          "text": [
            "0 A\n",
            "1 B\n",
            "2 C\n"
          ]
        }
      ]
    }
  ]
}