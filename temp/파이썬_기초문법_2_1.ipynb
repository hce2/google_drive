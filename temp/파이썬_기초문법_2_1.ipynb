{
  "nbformat": 4,
  "nbformat_minor": 0,
  "metadata": {
    "colab": {
      "name": "파이썬_기초문법_2_1.ipynb",
      "provenance": [],
      "authorship_tag": "ABX9TyO9VZsn1vW7Oaq1f3zwZJ8Y",
      "include_colab_link": true
    },
    "kernelspec": {
      "name": "python3",
      "display_name": "Python 3"
    },
    "language_info": {
      "name": "python"
    }
  },
  "cells": [
    {
      "cell_type": "markdown",
      "metadata": {
        "id": "view-in-github",
        "colab_type": "text"
      },
      "source": [
        "<a href=\"https://colab.research.google.com/github/hce2/google_drive/blob/main/temp/%ED%8C%8C%EC%9D%B4%EC%8D%AC_%EA%B8%B0%EC%B4%88%EB%AC%B8%EB%B2%95_2_1.ipynb\" target=\"_parent\"><img src=\"https://colab.research.google.com/assets/colab-badge.svg\" alt=\"Open In Colab\"/></a>"
      ]
    },
    {
      "cell_type": "markdown",
      "source": [
        "# 기초 문법 리뷰"
      ],
      "metadata": {
        "id": "F9cw7P-R9FvD"
      }
    },
    {
      "cell_type": "code",
      "execution_count": null,
      "metadata": {
        "id": "0RLSS8Oq8x_B"
      },
      "outputs": [],
      "source": [
        "# 리스트\n",
        "book_list = [\"A\", \"B\", \"C\"]\n",
        "# append, extend, insert, remove, pop, etc\n",
        "\n",
        "# 튜플\n",
        "book_tuple = (\"A\", \"B\", \"C\")\n",
        "# 수정 삭제가 불가능하다\n",
        "\n",
        "# 딕셔너리\n",
        "book_dictionaty = {\"책 제목\" : [\"A\", \"B\"],\n",
        "                   \"출판년도\" : [2011, 2002]}\n",
        "# keys(), value(), items(), get()"
      ]
    },
    {
      "cell_type": "markdown",
      "source": [
        "## 조건문 & 반복문"
      ],
      "metadata": {
        "id": "AfJHNUe_-DqV"
      }
    },
    {
      "cell_type": "code",
      "source": [
        "if True:\n",
        "  print(\"코드 실행\")\n",
        "elif Ture:\n",
        "  print(\"코드 실행\")\n",
        "else:\n",
        "  print(\"코드 실행\")"
      ],
      "metadata": {
        "id": "qfgvfCtv-DCL"
      },
      "execution_count": null,
      "outputs": []
    },
    {
      "cell_type": "code",
      "source": [
        "for i in range(3):\n",
        "  print(i + 1, \"안녕하세요\")"
      ],
      "metadata": {
        "id": "6XIaBcNv-YNO"
      },
      "execution_count": null,
      "outputs": []
    },
    {
      "cell_type": "code",
      "source": [
        "book_list = [\"프로그래밍 R\", \"혼자 공부하는 머신러닝\"]\n",
        "for book in book_list:\n",
        "  print(book)"
      ],
      "metadata": {
        "colab": {
          "base_uri": "https://localhost:8080/"
        },
        "id": "zgeYb3b9-3zO",
        "outputId": "7926afa7-d323-4d9c-bce8-7ac86c69aa43"
      },
      "execution_count": null,
      "outputs": [
        {
          "output_type": "stream",
          "name": "stdout",
          "text": [
            "프로그래밍 R\n",
            "혼자 공부하는 머신러닝\n"
          ]
        }
      ]
    },
    {
      "cell_type": "code",
      "source": [
        "strings01 = \"Hello World\"\n",
        "for char in strings01:\n",
        "  print(char)"
      ],
      "metadata": {
        "colab": {
          "base_uri": "https://localhost:8080/"
        },
        "id": "BkqFnjh__Qmh",
        "outputId": "acdc75c5-d120-4ba7-d800-f9e58a6130ea"
      },
      "execution_count": null,
      "outputs": [
        {
          "output_type": "stream",
          "name": "stdout",
          "text": [
            "H\n",
            "e\n",
            "l\n",
            "l\n",
            "o\n",
            " \n",
            "W\n",
            "o\n",
            "r\n",
            "l\n",
            "d\n"
          ]
        }
      ]
    },
    {
      "cell_type": "code",
      "source": [
        "num_tuple = (1, 2, 3, 4)\n",
        "for num in num_tuple:\n",
        "  print(num)"
      ],
      "metadata": {
        "colab": {
          "base_uri": "https://localhost:8080/"
        },
        "id": "bSqqe4VC_k7V",
        "outputId": "021b584b-d88b-43c7-9cd7-8f7a92c78281"
      },
      "execution_count": null,
      "outputs": [
        {
          "output_type": "stream",
          "name": "stdout",
          "text": [
            "1\n",
            "2\n",
            "3\n",
            "4\n"
          ]
        }
      ]
    },
    {
      "cell_type": "code",
      "source": [
        "num_dict = {\"A\" : 1,\n",
        "           \"B\" : 2}\n",
        "for num in num_dict:\n",
        "  print(num)\n",
        "  print(num_dict[num])"
      ],
      "metadata": {
        "colab": {
          "base_uri": "https://localhost:8080/"
        },
        "id": "M1Y0fqVN_ub3",
        "outputId": "070459c1-281d-44d3-ed01-69f0f2398afb"
      },
      "execution_count": null,
      "outputs": [
        {
          "output_type": "stream",
          "name": "stdout",
          "text": [
            "A\n",
            "1\n",
            "B\n",
            "2\n"
          ]
        }
      ]
    },
    {
      "cell_type": "markdown",
      "source": [
        "## 반복문의 필요성"
      ],
      "metadata": {
        "id": "BNM14rp1Ac8Y"
      }
    },
    {
      "cell_type": "code",
      "source": [
        "product_name = [\"요구르트\", \"우유\"]\n",
        "prices = [1000, 1500]\n",
        "quantities = [5, 3]\n",
        "\n",
        "name = product_name[0]\n",
        "sales = prices[0] * quantities[0]\n",
        "print(name + \"의 매출액은 \" + str(sales) + \"원이다.\")\n",
        "\n",
        "for i in range(len(product_name)):\n",
        "  print(product_name[i] + \"의 매출액은 \" + str(prices[i] * quantities[i]) + \"원이다.\")"
      ],
      "metadata": {
        "colab": {
          "base_uri": "https://localhost:8080/"
        },
        "id": "fpHaMeYvAcK9",
        "outputId": "4c9da3c0-8554-4058-ebfd-89846c13aa6e"
      },
      "execution_count": null,
      "outputs": [
        {
          "output_type": "stream",
          "name": "stdout",
          "text": [
            "요구르트의 매출액은 5000원이다.\n",
            "요구르트의 매출액은 5000원이다.\n",
            "우유의 매출액은 4500원이다.\n"
          ]
        }
      ]
    },
    {
      "cell_type": "markdown",
      "source": [
        "# while\n",
        "- 조건식이 들어간 반복문(vs for_loof, 범위)"
      ],
      "metadata": {
        "id": "SjFADDTyLEGE"
      }
    },
    {
      "cell_type": "code",
      "source": [
        "count = 1\n",
        "while count <= 5:\n",
        "  print(\"안녕하세요...\")\n",
        "  count = count + 1\n",
        "  print(count)\n",
        "  \n",
        "print(\"5 초과 했군요..\")"
      ],
      "metadata": {
        "colab": {
          "base_uri": "https://localhost:8080/"
        },
        "id": "kWYHQpx_LNbO",
        "outputId": "d42be611-47cb-4967-9f80-629bf637c2d9"
      },
      "execution_count": null,
      "outputs": [
        {
          "output_type": "stream",
          "name": "stdout",
          "text": [
            "안녕하세요...\n",
            "2\n",
            "안녕하세요...\n",
            "3\n",
            "안녕하세요...\n",
            "4\n",
            "안녕하세요...\n",
            "5\n",
            "안녕하세요...\n",
            "6\n",
            "5 초과 했군요..\n"
          ]
        }
      ]
    },
    {
      "cell_type": "code",
      "source": [
        "count = 3\n",
        "while count > 0:\n",
        "  print(\"안녕하세요...\")\n",
        "  count = count - 1\n",
        "  print(count)\n",
        "  \n",
        "print(\"0 미만 이군요..\")"
      ],
      "metadata": {
        "colab": {
          "base_uri": "https://localhost:8080/"
        },
        "id": "tE-ibkjMLtlo",
        "outputId": "18d76d92-5a02-4235-a573-8bb1ddeea8e6"
      },
      "execution_count": null,
      "outputs": [
        {
          "output_type": "stream",
          "name": "stdout",
          "text": [
            "안녕하세요...\n",
            "2\n",
            "안녕하세요...\n",
            "1\n",
            "안녕하세요...\n",
            "0\n",
            "0 미만 이군요..\n"
          ]
        }
      ]
    },
    {
      "cell_type": "markdown",
      "source": [
        "- 개발자를 지향한다\n",
        "   + while 공부 좀 더 비중 있게 다루는 걸 추천\n",
        "- 데이터 분석\n",
        "  + for-loop 공부 좀 더 비중 있게 다루는 걸 추천"
      ],
      "metadata": {
        "id": "zRVXXTGgMHel"
      }
    }
  ]
}